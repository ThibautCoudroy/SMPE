{
 "cells": [
  {
   "cell_type": "markdown",
   "id": "ae6cc67d-ae3e-4425-bc55-f19753a293f6",
   "metadata": {},
   "source": [
    "# Report of https://arnaud-legrand.shinyapps.io/design_of_experiments/?user_o255\n",
    "\n",
    "The goal is to find which values maximize the `y` value from 11 different variables.\n",
    "\n",
    "## Variables dependency\n",
    "\n",
    "The first thing I attempted to do is trying to know if variables were independant from eachother.\n",
    "\n",
    "For each pair of variable (55 possibilities), let's do three measurements:\n",
    "- One is only having \"1\" for the first variable of the pair\n",
    "- Second is only having \"1\" for the second one\n",
    "- Third is having \"1\" for both and seeing if it is just the sum of the two transformations"
   ]
  },
  {
   "cell_type": "code",
   "execution_count": null,
   "id": "8761c269-869e-49c3-ba83-750b0891fe21",
   "metadata": {},
   "outputs": [],
   "source": [
    "# Print all triplets useful for the calculations\n",
    "for i in range(11):\n",
    "    for j in range(i+1, 11):\n",
    "        # First has one\n",
    "        print(\"0,\"*i, \"1\", \",0\"*(10-i), sep=\"\")\n",
    "        # Second has one\n",
    "        print(\"0,\"*j, \"1\", \",0\"*(10-j), sep=\"\")\n",
    "        # Both have one\n",
    "        print(\"0,\"*i, \"1\", \",0\"*(j-i-1), \",1\", \",0\"*(10-j), sep=\"\")"
   ]
  },
  {
   "cell_type": "markdown",
   "id": "1620b50d-527b-4b39-9b73-eed64b83225c",
   "metadata": {},
   "source": [
    "Now let's check if the transformations are just the sum of the two individuals, which would mean it is likely independant."
   ]
  },
  {
   "cell_type": "code",
   "execution_count": 2,
   "id": "1e1954c9-6042-4efa-b631-c5eed9782dc6",
   "metadata": {},
   "outputs": [
    {
     "name": "stdout",
     "output_type": "stream",
     "text": [
      "base_value : 1.01253954454545\n",
      "Expected 2.01598075043869, got 1.71478938499032 (diff -0.3011913654483702)\n",
      "0,0,0,1,0,0,1,0,0,0,0,1.71478938499032\n",
      "\n",
      "Expected 0.023895439375812177, got 0.0114804199592722 (diff -0.012415019416539977)\n",
      "0,0,0,1,0,0,0,0,1,0,0,0.0114804199592722\n",
      "\n",
      "Expected -0.9764530904630219, got -0.987702577484058 (diff -0.01124948702103612)\n",
      "0,0,0,0,0,0,1,0,1,0,0,-0.987702577484058\n",
      "\n",
      "Max diff : 0.3011913654483702\n"
     ]
    }
   ],
   "source": [
    "max_diff = 0\n",
    "with open('user_o255', 'r') as f:\n",
    "    base_value = None\n",
    "    for i, l in enumerate(f):\n",
    "        if not base_value:\n",
    "            base_value = float(l.split(',')[-1])\n",
    "            print(f\"base_value : {base_value}\")\n",
    "        elif i%3==1:\n",
    "            first_val = float(l.split(',')[-1])\n",
    "        elif i%3==2:\n",
    "            second_val = float(l.split(',')[-1])\n",
    "        elif i%3==0:\n",
    "            third_val = float(l.split(',')[-1])\n",
    "            expected_val = first_val + second_val - base_value\n",
    "            diff = third_val-expected_val\n",
    "            if abs(diff)>0.01:\n",
    "                print(f\"Expected {expected_val}, got {third_val} (diff {diff})\")\n",
    "                print(l)\n",
    "            max_diff = max(abs(diff), max_diff)\n",
    "print(f\"Max diff : {max_diff}\")"
   ]
  },
  {
   "cell_type": "markdown",
   "id": "cd9ddb84-fe71-4627-922f-0caa3a64cae3",
   "metadata": {},
   "source": [
    "The maximum delta I had between the expected values from the sum of the two variables and the real value is very low in general, expect for three cases. While two of them could be due to noise, the first one is really high. Let's investigate further.\n",
    "\n",
    "We are going to try a few values for each variables and try to find how they relate."
   ]
  }
 ],
 "metadata": {
  "kernelspec": {
   "display_name": "Python 3 (ipykernel)",
   "language": "python",
   "name": "python3"
  },
  "language_info": {
   "codemirror_mode": {
    "name": "ipython",
    "version": 3
   },
   "file_extension": ".py",
   "mimetype": "text/x-python",
   "name": "python",
   "nbconvert_exporter": "python",
   "pygments_lexer": "ipython3",
   "version": "3.10.12"
  }
 },
 "nbformat": 4,
 "nbformat_minor": 5
}
