{
 "cells": [
  {
   "cell_type": "markdown",
   "id": "b672d565-b799-46fc-a156-5e570cfe19c2",
   "metadata": {},
   "source": [
    "# Incidence rate of flu"
   ]
  },
  {
   "cell_type": "code",
   "execution_count": 11,
   "id": "4015e489-a287-4c8d-8d20-e6edf49d5199",
   "metadata": {},
   "outputs": [],
   "source": [
    "%matplotlib inline\n",
    "import pandas as pd\n",
    "import matplotlib.pyplot as plt\n",
    "import isoweek"
   ]
  },
  {
   "cell_type": "code",
   "execution_count": 12,
   "id": "0260e255-de6c-43fd-9a76-b59a7a48ffad",
   "metadata": {},
   "outputs": [],
   "source": [
    "raw_data = pd.read_csv(\"https://www.sentiweb.fr/datasets/incidence-PAY-25.csv?v=7mlx7\", skiprows=1)"
   ]
  },
  {
   "cell_type": "code",
   "execution_count": 13,
   "id": "77730622-c74b-4623-9519-e082cbf89faa",
   "metadata": {},
   "outputs": [
    {
     "data": {
      "text/html": [
       "<div>\n",
       "<style scoped>\n",
       "    .dataframe tbody tr th:only-of-type {\n",
       "        vertical-align: middle;\n",
       "    }\n",
       "\n",
       "    .dataframe tbody tr th {\n",
       "        vertical-align: top;\n",
       "    }\n",
       "\n",
       "    .dataframe thead th {\n",
       "        text-align: right;\n",
       "    }\n",
       "</style>\n",
       "<table border=\"1\" class=\"dataframe\">\n",
       "  <thead>\n",
       "    <tr style=\"text-align: right;\">\n",
       "      <th></th>\n",
       "      <th>week</th>\n",
       "      <th>indicator</th>\n",
       "      <th>inc</th>\n",
       "      <th>inc_low</th>\n",
       "      <th>inc_up</th>\n",
       "      <th>inc100</th>\n",
       "      <th>inc100_low</th>\n",
       "      <th>inc100_up</th>\n",
       "      <th>geo_insee</th>\n",
       "      <th>geo_name</th>\n",
       "    </tr>\n",
       "  </thead>\n",
       "  <tbody>\n",
       "    <tr>\n",
       "      <th>0</th>\n",
       "      <td>202344</td>\n",
       "      <td>25</td>\n",
       "      <td>131736</td>\n",
       "      <td>117247</td>\n",
       "      <td>146225</td>\n",
       "      <td>198</td>\n",
       "      <td>176</td>\n",
       "      <td>220</td>\n",
       "      <td>FR</td>\n",
       "      <td>France</td>\n",
       "    </tr>\n",
       "    <tr>\n",
       "      <th>1</th>\n",
       "      <td>202343</td>\n",
       "      <td>25</td>\n",
       "      <td>108347</td>\n",
       "      <td>97412</td>\n",
       "      <td>119282</td>\n",
       "      <td>163</td>\n",
       "      <td>147</td>\n",
       "      <td>179</td>\n",
       "      <td>FR</td>\n",
       "      <td>France</td>\n",
       "    </tr>\n",
       "    <tr>\n",
       "      <th>2</th>\n",
       "      <td>202342</td>\n",
       "      <td>25</td>\n",
       "      <td>123120</td>\n",
       "      <td>111942</td>\n",
       "      <td>134298</td>\n",
       "      <td>185</td>\n",
       "      <td>168</td>\n",
       "      <td>202</td>\n",
       "      <td>FR</td>\n",
       "      <td>France</td>\n",
       "    </tr>\n",
       "    <tr>\n",
       "      <th>3</th>\n",
       "      <td>202341</td>\n",
       "      <td>25</td>\n",
       "      <td>126477</td>\n",
       "      <td>115697</td>\n",
       "      <td>137257</td>\n",
       "      <td>190</td>\n",
       "      <td>174</td>\n",
       "      <td>206</td>\n",
       "      <td>FR</td>\n",
       "      <td>France</td>\n",
       "    </tr>\n",
       "    <tr>\n",
       "      <th>4</th>\n",
       "      <td>202340</td>\n",
       "      <td>25</td>\n",
       "      <td>145262</td>\n",
       "      <td>132323</td>\n",
       "      <td>158201</td>\n",
       "      <td>219</td>\n",
       "      <td>200</td>\n",
       "      <td>238</td>\n",
       "      <td>FR</td>\n",
       "      <td>France</td>\n",
       "    </tr>\n",
       "    <tr>\n",
       "      <th>...</th>\n",
       "      <td>...</td>\n",
       "      <td>...</td>\n",
       "      <td>...</td>\n",
       "      <td>...</td>\n",
       "      <td>...</td>\n",
       "      <td>...</td>\n",
       "      <td>...</td>\n",
       "      <td>...</td>\n",
       "      <td>...</td>\n",
       "      <td>...</td>\n",
       "    </tr>\n",
       "    <tr>\n",
       "      <th>185</th>\n",
       "      <td>202016</td>\n",
       "      <td>25</td>\n",
       "      <td>60969</td>\n",
       "      <td>54118</td>\n",
       "      <td>67820</td>\n",
       "      <td>93</td>\n",
       "      <td>83</td>\n",
       "      <td>103</td>\n",
       "      <td>FR</td>\n",
       "      <td>France</td>\n",
       "    </tr>\n",
       "    <tr>\n",
       "      <th>186</th>\n",
       "      <td>202015</td>\n",
       "      <td>25</td>\n",
       "      <td>95364</td>\n",
       "      <td>86665</td>\n",
       "      <td>104063</td>\n",
       "      <td>145</td>\n",
       "      <td>132</td>\n",
       "      <td>158</td>\n",
       "      <td>FR</td>\n",
       "      <td>France</td>\n",
       "    </tr>\n",
       "    <tr>\n",
       "      <th>187</th>\n",
       "      <td>202014</td>\n",
       "      <td>25</td>\n",
       "      <td>213772</td>\n",
       "      <td>201334</td>\n",
       "      <td>226210</td>\n",
       "      <td>325</td>\n",
       "      <td>306</td>\n",
       "      <td>344</td>\n",
       "      <td>FR</td>\n",
       "      <td>France</td>\n",
       "    </tr>\n",
       "    <tr>\n",
       "      <th>188</th>\n",
       "      <td>202013</td>\n",
       "      <td>25</td>\n",
       "      <td>297819</td>\n",
       "      <td>283636</td>\n",
       "      <td>312002</td>\n",
       "      <td>452</td>\n",
       "      <td>430</td>\n",
       "      <td>474</td>\n",
       "      <td>FR</td>\n",
       "      <td>France</td>\n",
       "    </tr>\n",
       "    <tr>\n",
       "      <th>189</th>\n",
       "      <td>202012</td>\n",
       "      <td>25</td>\n",
       "      <td>273062</td>\n",
       "      <td>259400</td>\n",
       "      <td>286724</td>\n",
       "      <td>415</td>\n",
       "      <td>394</td>\n",
       "      <td>436</td>\n",
       "      <td>FR</td>\n",
       "      <td>France</td>\n",
       "    </tr>\n",
       "  </tbody>\n",
       "</table>\n",
       "<p>190 rows × 10 columns</p>\n",
       "</div>"
      ],
      "text/plain": [
       "       week  indicator     inc  inc_low  inc_up  inc100  inc100_low  \\\n",
       "0    202344         25  131736   117247  146225     198         176   \n",
       "1    202343         25  108347    97412  119282     163         147   \n",
       "2    202342         25  123120   111942  134298     185         168   \n",
       "3    202341         25  126477   115697  137257     190         174   \n",
       "4    202340         25  145262   132323  158201     219         200   \n",
       "..      ...        ...     ...      ...     ...     ...         ...   \n",
       "185  202016         25   60969    54118   67820      93          83   \n",
       "186  202015         25   95364    86665  104063     145         132   \n",
       "187  202014         25  213772   201334  226210     325         306   \n",
       "188  202013         25  297819   283636  312002     452         430   \n",
       "189  202012         25  273062   259400  286724     415         394   \n",
       "\n",
       "     inc100_up geo_insee geo_name  \n",
       "0          220        FR   France  \n",
       "1          179        FR   France  \n",
       "2          202        FR   France  \n",
       "3          206        FR   France  \n",
       "4          238        FR   France  \n",
       "..         ...       ...      ...  \n",
       "185        103        FR   France  \n",
       "186        158        FR   France  \n",
       "187        344        FR   France  \n",
       "188        474        FR   France  \n",
       "189        436        FR   France  \n",
       "\n",
       "[190 rows x 10 columns]"
      ]
     },
     "execution_count": 13,
     "metadata": {},
     "output_type": "execute_result"
    }
   ],
   "source": [
    "raw_data"
   ]
  },
  {
   "cell_type": "code",
   "execution_count": 14,
   "id": "0928d978-060e-46bf-80c8-6b040039eb13",
   "metadata": {},
   "outputs": [
    {
     "data": {
      "text/html": [
       "<div>\n",
       "<style scoped>\n",
       "    .dataframe tbody tr th:only-of-type {\n",
       "        vertical-align: middle;\n",
       "    }\n",
       "\n",
       "    .dataframe tbody tr th {\n",
       "        vertical-align: top;\n",
       "    }\n",
       "\n",
       "    .dataframe thead th {\n",
       "        text-align: right;\n",
       "    }\n",
       "</style>\n",
       "<table border=\"1\" class=\"dataframe\">\n",
       "  <thead>\n",
       "    <tr style=\"text-align: right;\">\n",
       "      <th></th>\n",
       "      <th>week</th>\n",
       "      <th>indicator</th>\n",
       "      <th>inc</th>\n",
       "      <th>inc_low</th>\n",
       "      <th>inc_up</th>\n",
       "      <th>inc100</th>\n",
       "      <th>inc100_low</th>\n",
       "      <th>inc100_up</th>\n",
       "      <th>geo_insee</th>\n",
       "      <th>geo_name</th>\n",
       "    </tr>\n",
       "  </thead>\n",
       "  <tbody>\n",
       "  </tbody>\n",
       "</table>\n",
       "</div>"
      ],
      "text/plain": [
       "Empty DataFrame\n",
       "Columns: [week, indicator, inc, inc_low, inc_up, inc100, inc100_low, inc100_up, geo_insee, geo_name]\n",
       "Index: []"
      ]
     },
     "execution_count": 14,
     "metadata": {},
     "output_type": "execute_result"
    }
   ],
   "source": [
    "raw_data[raw_data.isnull().any(axis=1)] # Here we do not have any data missing but it would have been necesary to handle this."
   ]
  },
  {
   "cell_type": "code",
   "execution_count": 15,
   "id": "531f6430-ffca-47b4-9e5c-b58db3ed4099",
   "metadata": {},
   "outputs": [],
   "source": [
    "data = raw_data.dropna().copy() # We ignore empty lines. \"copy\" for memory optimizations"
   ]
  },
  {
   "cell_type": "code",
   "execution_count": 21,
   "id": "57ddf201-1efe-4ca5-a7d1-baa810aa92eb",
   "metadata": {},
   "outputs": [],
   "source": [
    "def convert_week(year_and_week_int):\n",
    "    \"\"\"Converts YYYYWW data into weeks\"\"\"\n",
    "    year_and_week_str = str(year_and_week_int)\n",
    "    year = int(year_and_week_str[:4])\n",
    "    week = int(year_and_week_str[4:])\n",
    "    w = isoweek.Week(year, week)\n",
    "    return pd.Period(w.day(0), 'W')"
   ]
  },
  {
   "cell_type": "code",
   "execution_count": 22,
   "id": "c2a753e9-8c84-44e2-b2d4-1a563f07104e",
   "metadata": {},
   "outputs": [],
   "source": [
    "data['period'] = [convert_week(yw) for yw in data['week']]"
   ]
  },
  {
   "cell_type": "code",
   "execution_count": 23,
   "id": "44c95d63-b5ed-4588-8f8b-b0ff6433e512",
   "metadata": {},
   "outputs": [],
   "source": [
    "sorted_data = data.set_index('period').sort_index()"
   ]
  },
  {
   "cell_type": "code",
   "execution_count": 24,
   "id": "f0ced692-dc06-4b45-a0e0-f53b07da9d8e",
   "metadata": {},
   "outputs": [
    {
     "data": {
      "text/html": [
       "<div>\n",
       "<style scoped>\n",
       "    .dataframe tbody tr th:only-of-type {\n",
       "        vertical-align: middle;\n",
       "    }\n",
       "\n",
       "    .dataframe tbody tr th {\n",
       "        vertical-align: top;\n",
       "    }\n",
       "\n",
       "    .dataframe thead th {\n",
       "        text-align: right;\n",
       "    }\n",
       "</style>\n",
       "<table border=\"1\" class=\"dataframe\">\n",
       "  <thead>\n",
       "    <tr style=\"text-align: right;\">\n",
       "      <th></th>\n",
       "      <th>week</th>\n",
       "      <th>indicator</th>\n",
       "      <th>inc</th>\n",
       "      <th>inc_low</th>\n",
       "      <th>inc_up</th>\n",
       "      <th>inc100</th>\n",
       "      <th>inc100_low</th>\n",
       "      <th>inc100_up</th>\n",
       "      <th>geo_insee</th>\n",
       "      <th>geo_name</th>\n",
       "    </tr>\n",
       "    <tr>\n",
       "      <th>period</th>\n",
       "      <th></th>\n",
       "      <th></th>\n",
       "      <th></th>\n",
       "      <th></th>\n",
       "      <th></th>\n",
       "      <th></th>\n",
       "      <th></th>\n",
       "      <th></th>\n",
       "      <th></th>\n",
       "      <th></th>\n",
       "    </tr>\n",
       "  </thead>\n",
       "  <tbody>\n",
       "    <tr>\n",
       "      <th>2020-03-16/2020-03-22</th>\n",
       "      <td>202012</td>\n",
       "      <td>25</td>\n",
       "      <td>273062</td>\n",
       "      <td>259400</td>\n",
       "      <td>286724</td>\n",
       "      <td>415</td>\n",
       "      <td>394</td>\n",
       "      <td>436</td>\n",
       "      <td>FR</td>\n",
       "      <td>France</td>\n",
       "    </tr>\n",
       "    <tr>\n",
       "      <th>2020-03-23/2020-03-29</th>\n",
       "      <td>202013</td>\n",
       "      <td>25</td>\n",
       "      <td>297819</td>\n",
       "      <td>283636</td>\n",
       "      <td>312002</td>\n",
       "      <td>452</td>\n",
       "      <td>430</td>\n",
       "      <td>474</td>\n",
       "      <td>FR</td>\n",
       "      <td>France</td>\n",
       "    </tr>\n",
       "    <tr>\n",
       "      <th>2020-03-30/2020-04-05</th>\n",
       "      <td>202014</td>\n",
       "      <td>25</td>\n",
       "      <td>213772</td>\n",
       "      <td>201334</td>\n",
       "      <td>226210</td>\n",
       "      <td>325</td>\n",
       "      <td>306</td>\n",
       "      <td>344</td>\n",
       "      <td>FR</td>\n",
       "      <td>France</td>\n",
       "    </tr>\n",
       "    <tr>\n",
       "      <th>2020-04-06/2020-04-12</th>\n",
       "      <td>202015</td>\n",
       "      <td>25</td>\n",
       "      <td>95364</td>\n",
       "      <td>86665</td>\n",
       "      <td>104063</td>\n",
       "      <td>145</td>\n",
       "      <td>132</td>\n",
       "      <td>158</td>\n",
       "      <td>FR</td>\n",
       "      <td>France</td>\n",
       "    </tr>\n",
       "    <tr>\n",
       "      <th>2020-04-13/2020-04-19</th>\n",
       "      <td>202016</td>\n",
       "      <td>25</td>\n",
       "      <td>60969</td>\n",
       "      <td>54118</td>\n",
       "      <td>67820</td>\n",
       "      <td>93</td>\n",
       "      <td>83</td>\n",
       "      <td>103</td>\n",
       "      <td>FR</td>\n",
       "      <td>France</td>\n",
       "    </tr>\n",
       "    <tr>\n",
       "      <th>...</th>\n",
       "      <td>...</td>\n",
       "      <td>...</td>\n",
       "      <td>...</td>\n",
       "      <td>...</td>\n",
       "      <td>...</td>\n",
       "      <td>...</td>\n",
       "      <td>...</td>\n",
       "      <td>...</td>\n",
       "      <td>...</td>\n",
       "      <td>...</td>\n",
       "    </tr>\n",
       "    <tr>\n",
       "      <th>2023-10-02/2023-10-08</th>\n",
       "      <td>202340</td>\n",
       "      <td>25</td>\n",
       "      <td>145262</td>\n",
       "      <td>132323</td>\n",
       "      <td>158201</td>\n",
       "      <td>219</td>\n",
       "      <td>200</td>\n",
       "      <td>238</td>\n",
       "      <td>FR</td>\n",
       "      <td>France</td>\n",
       "    </tr>\n",
       "    <tr>\n",
       "      <th>2023-10-09/2023-10-15</th>\n",
       "      <td>202341</td>\n",
       "      <td>25</td>\n",
       "      <td>126477</td>\n",
       "      <td>115697</td>\n",
       "      <td>137257</td>\n",
       "      <td>190</td>\n",
       "      <td>174</td>\n",
       "      <td>206</td>\n",
       "      <td>FR</td>\n",
       "      <td>France</td>\n",
       "    </tr>\n",
       "    <tr>\n",
       "      <th>2023-10-16/2023-10-22</th>\n",
       "      <td>202342</td>\n",
       "      <td>25</td>\n",
       "      <td>123120</td>\n",
       "      <td>111942</td>\n",
       "      <td>134298</td>\n",
       "      <td>185</td>\n",
       "      <td>168</td>\n",
       "      <td>202</td>\n",
       "      <td>FR</td>\n",
       "      <td>France</td>\n",
       "    </tr>\n",
       "    <tr>\n",
       "      <th>2023-10-23/2023-10-29</th>\n",
       "      <td>202343</td>\n",
       "      <td>25</td>\n",
       "      <td>108347</td>\n",
       "      <td>97412</td>\n",
       "      <td>119282</td>\n",
       "      <td>163</td>\n",
       "      <td>147</td>\n",
       "      <td>179</td>\n",
       "      <td>FR</td>\n",
       "      <td>France</td>\n",
       "    </tr>\n",
       "    <tr>\n",
       "      <th>2023-10-30/2023-11-05</th>\n",
       "      <td>202344</td>\n",
       "      <td>25</td>\n",
       "      <td>131736</td>\n",
       "      <td>117247</td>\n",
       "      <td>146225</td>\n",
       "      <td>198</td>\n",
       "      <td>176</td>\n",
       "      <td>220</td>\n",
       "      <td>FR</td>\n",
       "      <td>France</td>\n",
       "    </tr>\n",
       "  </tbody>\n",
       "</table>\n",
       "<p>190 rows × 10 columns</p>\n",
       "</div>"
      ],
      "text/plain": [
       "                         week  indicator     inc  inc_low  inc_up  inc100  \\\n",
       "period                                                                      \n",
       "2020-03-16/2020-03-22  202012         25  273062   259400  286724     415   \n",
       "2020-03-23/2020-03-29  202013         25  297819   283636  312002     452   \n",
       "2020-03-30/2020-04-05  202014         25  213772   201334  226210     325   \n",
       "2020-04-06/2020-04-12  202015         25   95364    86665  104063     145   \n",
       "2020-04-13/2020-04-19  202016         25   60969    54118   67820      93   \n",
       "...                       ...        ...     ...      ...     ...     ...   \n",
       "2023-10-02/2023-10-08  202340         25  145262   132323  158201     219   \n",
       "2023-10-09/2023-10-15  202341         25  126477   115697  137257     190   \n",
       "2023-10-16/2023-10-22  202342         25  123120   111942  134298     185   \n",
       "2023-10-23/2023-10-29  202343         25  108347    97412  119282     163   \n",
       "2023-10-30/2023-11-05  202344         25  131736   117247  146225     198   \n",
       "\n",
       "                       inc100_low  inc100_up geo_insee geo_name  \n",
       "period                                                           \n",
       "2020-03-16/2020-03-22         394        436        FR   France  \n",
       "2020-03-23/2020-03-29         430        474        FR   France  \n",
       "2020-03-30/2020-04-05         306        344        FR   France  \n",
       "2020-04-06/2020-04-12         132        158        FR   France  \n",
       "2020-04-13/2020-04-19          83        103        FR   France  \n",
       "...                           ...        ...       ...      ...  \n",
       "2023-10-02/2023-10-08         200        238        FR   France  \n",
       "2023-10-09/2023-10-15         174        206        FR   France  \n",
       "2023-10-16/2023-10-22         168        202        FR   France  \n",
       "2023-10-23/2023-10-29         147        179        FR   France  \n",
       "2023-10-30/2023-11-05         176        220        FR   France  \n",
       "\n",
       "[190 rows x 10 columns]"
      ]
     },
     "execution_count": 24,
     "metadata": {},
     "output_type": "execute_result"
    }
   ],
   "source": [
    "sorted_data"
   ]
  },
  {
   "cell_type": "code",
   "execution_count": 27,
   "id": "40213ad9-2d2c-434d-a58c-f52a487ca2ce",
   "metadata": {},
   "outputs": [],
   "source": [
    "# Check missing data\n",
    "periods = sorted_data.index\n",
    "for p1, p2 in zip(periods[:-1], periods[1:]):\n",
    "    delta = p2.to_timestamp() - p1.end_time\n",
    "    if delta > pd.Timedelta('1s'):\n",
    "        print(p1, p2)\n",
    "# No output means no missing week"
   ]
  },
  {
   "cell_type": "markdown",
   "id": "ac77a63c-2288-47fc-8fc7-1a869bc4684c",
   "metadata": {},
   "source": [
    "'inc' column could be treated as strings by panda because of missing data. We make sure it's considering integers"
   ]
  },
  {
   "cell_type": "code",
   "execution_count": 28,
   "id": "c77ab404-350f-4d2e-a0ef-6000622d6060",
   "metadata": {},
   "outputs": [],
   "source": [
    "sorted_data['inc'] = sorted_data['inc'].astype(int)"
   ]
  },
  {
   "cell_type": "code",
   "execution_count": 29,
   "id": "1e23cdd4-c0b5-4e3b-9253-2ccd658f75ae",
   "metadata": {},
   "outputs": [
    {
     "data": {
      "text/plain": [
       "<AxesSubplot:xlabel='period'>"
      ]
     },
     "execution_count": 29,
     "metadata": {},
     "output_type": "execute_result"
    },
    {
     "data": {
      "image/png": "[encoded data removed]",
      "text/plain": [
       "<Figure size 640x480 with 1 Axes>"
      ]
     },
     "metadata": {},
     "output_type": "display_data"
    }
   ],
   "source": [
    "sorted_data['inc'].plot()"
   ]
  },
  {
   "cell_type": "code",
   "execution_count": 36,
   "id": "39746869-f98e-4d8b-81e4-0a458ea8a9a6",
   "metadata": {},
   "outputs": [],
   "source": [
    "# every week containing August 1st\n",
    "first_august_week = [pd.Period(pd.Timestamp(y, 8, 1), 'W') for y in range(sorted_data.index[0].year, sorted_data.index[-1].year+1)]"
   ]
  },
  {
   "cell_type": "code",
   "execution_count": 37,
   "id": "2dffc527-5b4c-4306-8f6b-23e375757d1c",
   "metadata": {},
   "outputs": [],
   "source": [
    "year = []\n",
    "yearly_incidence = []\n",
    "for week1, week2 in zip(first_august_week[:-1], first_august_week[1:]):\n",
    "    one_year = sorted_data['inc'][week1:week2-1] # We would not expect to have this -1 but panda doesn't respect Python convention\n",
    "    assert abs(len(one_year)-52) < 2\n",
    "    yearly_incidence.append(one_year.sum())\n",
    "    year.append(week2.year)"
   ]
  },
  {
   "cell_type": "code",
   "execution_count": 38,
   "id": "d59377dc-c27a-4ab3-8d65-d65ab5159080",
   "metadata": {},
   "outputs": [],
   "source": [
    "yearly_inc = pd.Series(index=year, data=yearly_incidence)"
   ]
  },
  {
   "cell_type": "code",
   "execution_count": 39,
   "id": "f487eb88-b9fe-4aea-9ec6-b02b4f45e526",
   "metadata": {},
   "outputs": [
    {
     "data": {
      "text/plain": [
       "<AxesSubplot:>"
      ]
     },
     "execution_count": 39,
     "metadata": {},
     "output_type": "execute_result"
    },
    {
     "data": {
      "image/png": "[encoded data removed]",
      "text/plain": [
       "<Figure size 640x480 with 1 Axes>"
      ]
     },
     "metadata": {},
     "output_type": "display_data"
    }
   ],
   "source": [
    "yearly_inc.plot(style='*')"
   ]
  },
  {
   "cell_type": "code",
   "execution_count": 40,
   "id": "b8ffec62-91c3-4d84-a9c0-775d327e4922",
   "metadata": {},
   "outputs": [
    {
     "data": {
      "text/plain": [
       "2021    2394230\n",
       "2022    4728673\n",
       "2023    5616796\n",
       "dtype: int64"
      ]
     },
     "execution_count": 40,
     "metadata": {},
     "output_type": "execute_result"
    }
   ],
   "source": [
    "yearly_inc.sort_values()"
   ]
  },
  {
   "cell_type": "code",
   "execution_count": 44,
   "id": "d3060f5d-4594-4737-a3d4-51b2d10cdb2f",
   "metadata": {},
   "outputs": [
    {
     "data": {
      "text/plain": [
       "<AxesSubplot:>"
      ]
     },
     "execution_count": 44,
     "metadata": {},
     "output_type": "execute_result"
    },
    {
     "data": {
      "image/png": "[encoded data removed]",
      "text/plain": [
       "<Figure size 640x480 with 1 Axes>"
      ]
     },
     "metadata": {},
     "output_type": "display_data"
    }
   ],
   "source": [
    "yearly_inc.hist(xrot=45) # Not enough years to have something useful"
   ]
  },
  {
   "cell_type": "code",
   "execution_count": null,
   "id": "5558b50b-5950-46b4-a1d9-3db6a1cccd0b",
   "metadata": {},
   "outputs": [],
   "source": []
  }
 ],
 "metadata": {
  "kernelspec": {
   "display_name": "Python 3 (ipykernel)",
   "language": "python",
   "name": "python3"
  },
  "language_info": {
   "codemirror_mode": {
    "name": "ipython",
    "version": 3
   },
   "file_extension": ".py",
   "mimetype": "text/x-python",
   "name": "python",
   "nbconvert_exporter": "python",
   "pygments_lexer": "ipython3",
   "version": "3.10.12"
  }
 },
 "nbformat": 4,
 "nbformat_minor": 5
}
